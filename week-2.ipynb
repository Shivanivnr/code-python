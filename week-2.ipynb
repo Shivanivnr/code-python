{
 "cells": [
  {
   "cell_type": "code",
   "execution_count": 1,
   "id": "4de64c0f-7f67-4ebc-bcba-76b25c4e03bb",
   "metadata": {},
   "outputs": [
    {
     "name": "stdout",
     "output_type": "stream",
     "text": [
      "5 \n",
      "\n",
      "4 4 \n",
      "\n",
      "3 3 3 \n",
      "\n",
      "2 2 2 2 \n",
      "\n",
      "1 1 1 1 1 \n",
      "\n"
     ]
    }
   ],
   "source": [
    "\"\"\"1. Print the below triangle using for loop.\n",
    "5\n",
    "4 4\n",
    "3 3 3\n",
    "2 2 2 2\n",
    "1 1 1 1 1\"\"\"\n",
    "num=5\n",
    "for i in range(0,5):\n",
    "    for j in range(0,i+1):\n",
    "        print(num,end=\" \")\n",
    "    print(\"\\n\")\n",
    "    num=num-1\n"
   ]
  },
  {
   "cell_type": "code",
   "execution_count": 5,
   "id": "7b64e3c5-3dc3-4bcc-b6ab-5dfd3d8573f6",
   "metadata": {},
   "outputs": [
    {
     "name": "stdout",
     "output_type": "stream",
     "text": [
      "enter any element ^%\n"
     ]
    },
    {
     "name": "stdout",
     "output_type": "stream",
     "text": [
      "special characters\n"
     ]
    }
   ],
   "source": [
    "\"2. Write a program to check whether the given input is digit or lowercase character or uppercase character or a special character (use 'if-else-if' ladder)\"\n",
    "a=input(\"enter any element\")\n",
    "if a.islower():\n",
    "    print(\"given input is of lower case characters\")\n",
    "elif a.isupper():\n",
    "    print(\"given input is of upper case characters\")\n",
    "elif a.isalnum():\n",
    "    print(\"Given input are numbers\")\n",
    "else:\n",
    "    print(\"special characters\")"
   ]
  },
  {
   "cell_type": "code",
   "execution_count": 7,
   "id": "27ccc727-1c3a-4ee0-9c05-ca5a51ae771b",
   "metadata": {},
   "outputs": [
    {
     "name": "stdout",
     "output_type": "stream",
     "text": [
      "enter the number of elements in fibonacci series 9\n"
     ]
    },
    {
     "name": "stdout",
     "output_type": "stream",
     "text": [
      "0\n",
      "1\n",
      "1\n",
      "2\n",
      "3\n",
      "5\n",
      "8\n",
      "13\n",
      "21\n"
     ]
    }
   ],
   "source": [
    "\"3. Python Program to Print the Fibonacci sequence using while loop\"\n",
    "a=int(input(\"enter the number of elements in fibonacci series\"))\n",
    "l=0\n",
    "i=0\n",
    "j=1\n",
    "k=i+j\n",
    "for l in range(0,a):\n",
    "    print(i)\n",
    "    i=j\n",
    "    j=k\n",
    "    k=i+j"
   ]
  },
  {
   "cell_type": "code",
   "execution_count": 9,
   "id": "c4a4ec7d-bc6d-44ca-b605-0d29419b0e28",
   "metadata": {},
   "outputs": [
    {
     "name": "stdout",
     "output_type": "stream",
     "text": [
      "enter the lowest  range 20\n",
      "enter the upper range 50\n"
     ]
    },
    {
     "name": "stdout",
     "output_type": "stream",
     "text": [
      "23  is a prime number\n",
      "29  is a prime number\n",
      "31  is a prime number\n",
      "37  is a prime number\n",
      "41  is a prime number\n",
      "43  is a prime number\n",
      "47  is a prime number\n"
     ]
    }
   ],
   "source": [
    "\"4. Python program to print all prime numbers in a given interval (use break)\"\n",
    "count=0\n",
    "a=int(input(\"enter the lowest  range\"))\n",
    "b=int(input(\"enter the upper range\"))\n",
    "for n in range(a,b):\n",
    "    if(n>0):\n",
    "        for j in range(1,n+1):\n",
    "            if(n%j==0):\n",
    "                count=count+1\n",
    "                        \n",
    "        if(count==2):\n",
    "            print(n,\" is a prime number\")\n",
    "        count=0\n",
    "    else:\n",
    "        break"
   ]
  },
  {
   "cell_type": "code",
   "execution_count": 13,
   "id": "aa2cbfbe-351f-4429-a878-a73317ec2ad7",
   "metadata": {},
   "outputs": [
    {
     "name": "stdout",
     "output_type": "stream",
     "text": [
      "enter a number 6\n",
      "enter another number 5\n"
     ]
    },
    {
     "name": "stdout",
     "output_type": "stream",
     "text": [
      "LCM of given numbers : 30\n"
     ]
    }
   ],
   "source": [
    "\"5.Write a program to compute LCM of two numbers by taking input from the user\"\n",
    "import math as m\n",
    "num1=int(input('enter a number'))\n",
    "num2=int(input('enter another number'))\n",
    "HCF=m.gcd(num1,num2)\n",
    "LCM=int((num1*num2)/(HCF))\n",
    "print('LCM of given numbers :',LCM)"
   ]
  },
  {
   "cell_type": "code",
   "execution_count": 13,
   "id": "060220c6-dc09-41d8-af7a-4d78664fc931",
   "metadata": {},
   "outputs": [
    {
     "name": "stdout",
     "output_type": "stream",
     "text": [
      "Sum is: 8.0\n"
     ]
    }
   ],
   "source": [
    "\"6.Write a program add.py that takes 2 numbers as command line arguments and prints its sum.\"\n",
    "import sys as s\n",
    "s.argv = ['add.py', '5', '3'] \n",
    "sum_value = float(s.argv[1]) + float(s.argv[2])\n",
    "print(\"Sum is:\", sum_value)"
   ]
  }
 ],
 "metadata": {
  "kernelspec": {
   "display_name": "Python 3 (ipykernel)",
   "language": "python",
   "name": "python3"
  },
  "language_info": {
   "codemirror_mode": {
    "name": "ipython",
    "version": 3
   },
   "file_extension": ".py",
   "mimetype": "text/x-python",
   "name": "python",
   "nbconvert_exporter": "python",
   "pygments_lexer": "ipython3",
   "version": "3.12.4"
  }
 },
 "nbformat": 4,
 "nbformat_minor": 5
}
