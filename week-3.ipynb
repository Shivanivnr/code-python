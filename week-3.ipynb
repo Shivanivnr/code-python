{
 "cells": [
  {
   "cell_type": "code",
   "execution_count": 5,
   "id": "0abeee2b-74de-4f10-bf88-7d54001c2e6d",
   "metadata": {},
   "outputs": [
    {
     "name": "stdout",
     "output_type": "stream",
     "text": [
      "list_array: array('i', [1, 2, 3])\n",
      "tuple_array: array('i', [4, 9, 0])\n"
     ]
    }
   ],
   "source": [
    "\"1.\ti) Write a program to convert a list and tuple into arrays.\"\n",
    "from array import array\n",
    "list=[1,2,3]\n",
    "list_array=array(\"i\",list)\n",
    "print(\"list_array:\",list_array)\n",
    "tuple=(4,9,0)\n",
    "tuple_array=array(\"i\",tuple)\n",
    "print(\"tuple_array:\",tuple_array)\n"
   ]
  },
  {
   "cell_type": "code",
   "execution_count": 7,
   "id": "23f72911-7af9-4a3b-821a-025fcfbbca4b",
   "metadata": {},
   "outputs": [
    {
     "name": "stdout",
     "output_type": "stream",
     "text": [
      "{8}\n"
     ]
    }
   ],
   "source": [
    "\"ii) Write a program to find common values between two arrays.\"\n",
    "from array import *\n",
    "array1=array('i',[7,8,9,8])\n",
    "array2=array('i',[23,33,11,8])\n",
    "common_values=[]\n",
    "for i in array1:\n",
    "    for j in array2:\n",
    "        if i==j:\n",
    "            common_values.append(i)\n",
    "common_values=set(common_values)\n",
    "print(common_values)"
   ]
  },
  {
   "cell_type": "code",
   "execution_count": 9,
   "id": "5507381e-d3a6-496b-9dce-c6b2bfcf74f5",
   "metadata": {},
   "outputs": [
    {
     "name": "stdout",
     "output_type": "stream",
     "text": [
      "GCD of 48 and 18 is: 6\n"
     ]
    }
   ],
   "source": [
    "\"2. Write a function called gcd that takes parameters a and b and returns their greatest common divisor.\"\n",
    "def gcd(a, b):\n",
    "    while b:\n",
    "        a, b = b, a % b\n",
    "    return a\n",
    "num1 = 48\n",
    "num2 = 18\n",
    "result = gcd(num1, num2)\n",
    "print(\"GCD of\", num1, \"and\", num2, \"is:\", result)"
   ]
  },
  {
   "cell_type": "code",
   "execution_count": 13,
   "id": "6fbf95f7-b3b3-475b-a085-7b5b88c1dec6",
   "metadata": {},
   "outputs": [
    {
     "name": "stdin",
     "output_type": "stream",
     "text": [
      "enter a string  mom\n"
     ]
    },
    {
     "name": "stdout",
     "output_type": "stream",
     "text": [
      "True\n"
     ]
    }
   ],
   "source": [
    "\"3. Write a function called palindrome that takes a string argument and returns True if it is a palindrome and False otherwise. Remember that you can use the built-in function len to check the length of a string.\"\n",
    "def palindrome(string):\n",
    "    \n",
    "    len_string=len(string)\n",
    "    for i in range(0,int(len_string/2)):\n",
    "        if(string[i]==string[len_string-1]):\n",
    "            len_string=len_string-1\n",
    "            return True\n",
    "        else:\n",
    "            return False\n",
    "a=input(\"enter a string \")\n",
    "c=palindrome(a)\n",
    "print(c)"
   ]
  },
  {
   "cell_type": "code",
   "execution_count": 15,
   "id": "5f21c525-5d90-47a2-8ee3-3455a64faf1e",
   "metadata": {},
   "outputs": [
    {
     "name": "stdin",
     "output_type": "stream",
     "text": [
      "enter the number of elements 5\n"
     ]
    },
    {
     "name": "stdout",
     "output_type": "stream",
     "text": [
      "enter the element\n"
     ]
    },
    {
     "name": "stdin",
     "output_type": "stream",
     "text": [
      " 5\n"
     ]
    },
    {
     "name": "stdout",
     "output_type": "stream",
     "text": [
      "enter the element\n"
     ]
    },
    {
     "name": "stdin",
     "output_type": "stream",
     "text": [
      " 3\n"
     ]
    },
    {
     "name": "stdout",
     "output_type": "stream",
     "text": [
      "enter the element\n"
     ]
    },
    {
     "name": "stdin",
     "output_type": "stream",
     "text": [
      " 6\n"
     ]
    },
    {
     "name": "stdout",
     "output_type": "stream",
     "text": [
      "enter the element\n"
     ]
    },
    {
     "name": "stdin",
     "output_type": "stream",
     "text": [
      " 7\n"
     ]
    },
    {
     "name": "stdout",
     "output_type": "stream",
     "text": [
      "enter the element\n"
     ]
    },
    {
     "name": "stdin",
     "output_type": "stream",
     "text": [
      " 4\n"
     ]
    },
    {
     "name": "stdout",
     "output_type": "stream",
     "text": [
      "5 =mean\n",
      "5 =mode\n",
      "5 =median\n"
     ]
    }
   ],
   "source": [
    "\"4. Find mean, median, mode for the given set of numbers in a list.\"\n",
    "import statistics as s\n",
    "list=[]\n",
    "n=int(input(\"enter the number of elements\"))\n",
    "for i in range(0,n):\n",
    "    print(\"enter the element\")\n",
    "    elements=int(input())\n",
    "    list.append(elements)\n",
    "print(s.mean(list),\"=mean\")\n",
    "print(s.mode(list),\"=mode\")\n",
    "print(s.median(list),\"=median\")\n"
   ]
  },
  {
   "cell_type": "code",
   "execution_count": 2,
   "id": "a02efad0-8f2e-4ca2-a72d-089380aca752",
   "metadata": {},
   "outputs": [
    {
     "name": "stdout",
     "output_type": "stream",
     "text": [
      "Tuple 1: (1, 2, 3, 4, 5)\n",
      "Tuple 2: ()\n",
      "Tuple 3: (10,)\n",
      "Tuple 4: (6, 7, 8, 9, 10)\n",
      "Tuple 5: ('apple', 3.14, True)\n"
     ]
    }
   ],
   "source": [
    "\"5. Write a Python program to create a tuple.\"\n",
    "tuple1 = (1, 2, 3, 4, 5)\n",
    "# Creating an empty tuple\n",
    "tuple2 = ()\n",
    "# Creating a tuple with a single element\n",
    "tuple3 = (10,)  # Note the comma after the single element\n",
    "tuple4 = tuple([6, 7, 8, 9, 10])\n",
    "tuple5 = (\"apple\", 3.14, True)\n",
    "\n",
    "print(\"Tuple 1:\", tuple1)\n",
    "print(\"Tuple 2:\", tuple2)\n",
    "print(\"Tuple 3:\", tuple3)\n",
    "print(\"Tuple 4:\", tuple4)\n",
    "print(\"Tuple 5:\", tuple5)\n"
   ]
  },
  {
   "cell_type": "code",
   "execution_count": 4,
   "id": "8998c876-0db0-4f50-865f-6d2a9b7f216f",
   "metadata": {},
   "outputs": [
    {
     "name": "stdout",
     "output_type": "stream",
     "text": [
      "Tuple :  ('Apple', True, 30)\n"
     ]
    }
   ],
   "source": [
    "\"6.Write a Python program to create a tuple with different data types.\"\n",
    "tuple1=(\"Apple\",True,30)\n",
    "print(\"Tuple : \",tuple1)"
   ]
  },
  {
   "cell_type": "code",
   "execution_count": 10,
   "id": "5885ce25-468c-4ace-bba1-80b4126258cf",
   "metadata": {},
   "outputs": [
    {
     "name": "stdin",
     "output_type": "stream",
     "text": [
      "enter the element you want to search in the tuple:  cat\n"
     ]
    },
    {
     "name": "stdout",
     "output_type": "stream",
     "text": [
      "Element exist within the tuple\n"
     ]
    }
   ],
   "source": [
    "\"7.Write a Python program to check whether an element exists within a tuple.\"\n",
    "a=input(\"enter the element you want to search in the tuple: \")\n",
    "tuple1=(\"Dog\",\"cat\",True,50,20)\n",
    "len_tuple1=len(tuple1)\n",
    "for i in range(0,len_tuple1):\n",
    "    if(a==tuple1[i]):\n",
    "        print(\"Element exist within the tuple\")\n"
   ]
  }
 ],
 "metadata": {
  "kernelspec": {
   "display_name": "Python 3 (ipykernel)",
   "language": "python",
   "name": "python3"
  },
  "language_info": {
   "codemirror_mode": {
    "name": "ipython",
    "version": 3
   },
   "file_extension": ".py",
   "mimetype": "text/x-python",
   "name": "python",
   "nbconvert_exporter": "python",
   "pygments_lexer": "ipython3",
   "version": "3.12.4"
  }
 },
 "nbformat": 4,
 "nbformat_minor": 5
}
