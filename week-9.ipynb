{
 "cells": [
  {
   "cell_type": "code",
   "execution_count": 3,
   "id": "4b98d7da-1b4e-4fbf-aa5e-e84418ba3b57",
   "metadata": {},
   "outputs": [
    {
     "name": "stdout",
     "output_type": "stream",
     "text": [
      "[10 20 30 40 50]\n",
      "<class 'numpy.ndarray'>\n",
      "1-D Array\n",
      "[1 2 3 4 5]\n",
      "1\n",
      "2-D Array\n",
      "[[1 2 3]\n",
      " [4 5 6]]\n",
      "5\n",
      "[4 5 6]\n",
      "Dimension\n",
      "2\n",
      "#Size of each element in bytes\n",
      "4\n",
      "Datatype\n",
      "int32\n",
      "Size and Shape\n",
      "6\n",
      "(2, 3)\n",
      "Reshape\n",
      "[[1 2]\n",
      " [3 4]\n",
      " [5 6]]\n",
      "Slicing\n",
      "[3 6]\n",
      "min is  1\n",
      "max is  6\n",
      "sum is  21\n"
     ]
    }
   ],
   "source": [
    "\"1. Import numpy, and explore their functionalities. \"\n",
    "import numpy as np \n",
    "arr1 = np.array([10,20,30,40,50]) \n",
    "print(arr1)\n",
    "print(type(arr1)) \n",
    "\n",
    "#1-D Arrays\n",
    "arr = np.array([1, 2, 3, 4, 5])\n",
    "print(\"1-D Array\")\n",
    "print(arr)\n",
    "print(arr[0])\n",
    "      \n",
    "#2-D Arrays\n",
    "arr = np.array([[1, 2, 3], [4, 5, 6]]) \n",
    "print(\"2-D Array\")\n",
    "print(arr) \n",
    "print(arr[1][1]) \n",
    "print(arr[1])\n",
    "\n",
    "#Dimension\n",
    "arr = np.array([[1, 2, 3], [4, 5, 6]])\n",
    "print(\"Dimension\")\n",
    "print(arr.ndim) \n",
    "#Size of each element (in bytes) \n",
    "print(\"#Size of each element in bytes\")\n",
    "print(arr.itemsize) \n",
    "#Datatype\n",
    "print(\"Datatype\")\n",
    "print(arr.dtype) \n",
    "#Size and Shape\n",
    "print(\"Size and Shape\")\n",
    "print(arr.size) \n",
    "print(arr.shape) \n",
    "#Reshape\n",
    "print(\"Reshape\")\n",
    "a=arr.reshape(3,2)\n",
    "print(a) \n",
    "#Slicing\n",
    "print(\"Slicing\")\n",
    "print(arr[0:,2]) \n",
    "#Min/Max/Sum\n",
    "arr = np.array([[1, 2, 3], [4, 5, 6]]) \n",
    "print(\"min is \",arr.min())\n",
    "print(\"max is \",arr.max())\n",
    "print(\"sum is \",arr.sum())"
   ]
  },
  {
   "cell_type": "code",
   "execution_count": 7,
   "id": "c37ee52d-d3d4-4233-837b-f5475248cd03",
   "metadata": {},
   "outputs": [
    {
     "name": "stdout",
     "output_type": "stream",
     "text": [
      "[2 3 4 5]\n",
      "[5 6 7]\n",
      "[1 2 3 4]\n",
      "[5 6]\n",
      "[2 4]\n",
      "[1 3 5 7]\n"
     ]
    }
   ],
   "source": [
    "\"3. Write a program for slicing arrays using numpy .\"\n",
    "import numpy as np \n",
    "arr = np.array([1, 2, 3, 4, 5, 6, 7]) \n",
    "print(arr[1:5]) \n",
    "print(arr[4:]) \n",
    "print(arr[:4]) \n",
    "print(arr[-3:-1]) \n",
    "print(arr[1:5:2])\n",
    "print(arr[::2])"
   ]
  },
  {
   "cell_type": "code",
   "execution_count": 9,
   "id": "c122ade8-5362-4102-bcb9-a4d80e9e09aa",
   "metadata": {},
   "outputs": [
    {
     "name": "stdout",
     "output_type": "stream",
     "text": [
      "[[1.         1.41421356 1.73205081]\n",
      " [2.         2.23606798 2.44948974]]\n",
      "1.707825127659933\n",
      "[[10 12 14]\n",
      " [ 6  6  6]]\n",
      "[[ 0  0  0]\n",
      " [-2  0  2]]\n",
      "[[25 36 49]\n",
      " [ 8  9  8]]\n",
      "[[1.  1.  1. ]\n",
      " [0.5 1.  2. ]]\n",
      "vstack: [[ 1  3  2]\n",
      " [ 4  5  6]\n",
      " [ 7  8  9]\n",
      " [10 11 12]]\n",
      "hstack: [[ 1  3  2  7  8  9]\n",
      " [ 4  5  6 10 11 12]]\n",
      "[1 5 7 6 7 1]\n"
     ]
    }
   ],
   "source": [
    "\"4. Write a program for Math operations on array using numpy. \"\n",
    "#Square Root and Standard Deviation\n",
    "import numpy as np\n",
    "arr=np.array([[1,2,3],[4,5,6]])\n",
    "print(np.sqrt(arr))\n",
    "print(np.std(arr))\n",
    "\n",
    "#Addition, subtraction, multiplication and division of the two matrices\n",
    "arr1=np.array([[5,6,7],[2,3,4]])\n",
    "arr2=np.array([[5,6,7],[4,3,2]])\n",
    "print(arr1+arr2)\n",
    "print(arr1-arr2)\n",
    "print(arr1*arr2)\n",
    "print(arr1/arr2)\n",
    "\n",
    "#Vertical and Horizontal Stacking\n",
    "arr1=np.array([[1,3,2],[4,5,6]])\n",
    "arr2=np.array([[7,8,9],[10,11,12]])\n",
    "print(\"vstack:\",np.vstack((arr1,arr2)))\n",
    "print(\"hstack:\",np.hstack((arr1,arr2)))\n",
    "\n",
    "#Ravel:\n",
    "arr=np.array([[1,5,7],[6,7,1]])\n",
    "print(np.ravel(arr))"
   ]
  },
  {
   "cell_type": "code",
   "execution_count": 11,
   "id": "b5cea0c9-2091-4566-9e04-96c9cb2cdfbc",
   "metadata": {},
   "outputs": [
    {
     "name": "stdout",
     "output_type": "stream",
     "text": [
      "(array([2], dtype=int64),)\n"
     ]
    }
   ],
   "source": [
    "\"5. Write a program for searching .\"\n",
    "import numpy as np\n",
    "arr = np.array([10, 32, 30, 50, 20, 82, 91, 45])\n",
    "i = np.where(arr == 30)\n",
    "print(i)"
   ]
  },
  {
   "cell_type": "code",
   "execution_count": 15,
   "id": "eab3530c-0be8-4de8-9fdb-11d2a3c99a81",
   "metadata": {},
   "outputs": [
    {
     "name": "stdout",
     "output_type": "stream",
     "text": [
      "[[ 1  2  3  4]\n",
      " [ 1  9 13 61]\n",
      " [22 24 43 88]]\n"
     ]
    }
   ],
   "source": [
    "\"6. Write a program for sorting.\"\n",
    "import numpy as np  \n",
    "arr=np.array([[1,4,2,3],[9,13,61,1],[43,24,88,22]])  \n",
    "sort_arr=np.sort(arr)  \n",
    "print(sort_arr)"
   ]
  },
  {
   "cell_type": "code",
   "execution_count": null,
   "id": "4f18c54f-8e5e-4292-948f-50b47d4e0243",
   "metadata": {},
   "outputs": [],
   "source": []
  }
 ],
 "metadata": {
  "kernelspec": {
   "display_name": "Python 3 (ipykernel)",
   "language": "python",
   "name": "python3"
  },
  "language_info": {
   "codemirror_mode": {
    "name": "ipython",
    "version": 3
   },
   "file_extension": ".py",
   "mimetype": "text/x-python",
   "name": "python",
   "nbconvert_exporter": "python",
   "pygments_lexer": "ipython3",
   "version": "3.12.4"
  }
 },
 "nbformat": 4,
 "nbformat_minor": 5
}
