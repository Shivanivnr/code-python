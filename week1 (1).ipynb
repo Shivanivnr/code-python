{
 "cells": [
  {
   "cell_type": "code",
   "execution_count": 3,
   "id": "cfaa014a-bade-476f-bd29-83fd80e0d859",
   "metadata": {},
   "outputs": [
    {
     "name": "stdout",
     "output_type": "stream",
     "text": [
      "5 is bigger\n"
     ]
    }
   ],
   "source": [
    "a=5\n",
    "b=12\n",
    "if a<b:\n",
    "    print(a,\"is bigger\")"
   ]
  },
  {
   "cell_type": "code",
   "execution_count": 15,
   "id": "f96da1ff-e47a-4151-b424-23da0b888e21",
   "metadata": {},
   "outputs": [
    {
     "name": "stdout",
     "output_type": "stream",
     "text": [
      "compond interest is 1160\n"
     ]
    }
   ],
   "source": [
    "p=1000\n",
    "r=0.05\n",
    "n=4\n",
    "t=3\n",
    "ci=int(p* (1 + r / n) ** (n * t))\n",
    "print(\"compound interest is\",ci)"
   ]
  },
  {
   "cell_type": "code",
   "execution_count": 31,
   "id": "6f8456d4-fe67-4bc4-a42c-9661422ed8de",
   "metadata": {},
   "outputs": [
    {
     "name": "stdout",
     "output_type": "stream",
     "text": [
      "the distance is  5\n"
     ]
    }
   ],
   "source": [
    "import math\n",
    "x1=2\n",
    "x2=8\n",
    "y1=8\n",
    "y2=9\n",
    "d=int(math.sqrt((x2-x1)**2)-((y2-y1)**2))\n",
    "print(\"the distance is \",d)"
   ]
  },
  {
   "cell_type": "code",
   "execution_count": 2,
   "id": "a7425a39-fe69-4305-8c3b-d8832033c548",
   "metadata": {},
   "outputs": [
    {
     "name": "stdin",
     "output_type": "stream",
     "text": [
      "enter your name Shivani\n",
      "enter address 1-100,Rampur,Tandur,500019\n",
      "enter email id Shivani417@gmail.com\n",
      "enter your phone number 6562656845\n"
     ]
    },
    {
     "name": "stdout",
     "output_type": "stream",
     "text": [
      "Shivani\n",
      "1-100,Rampur,Tandur,500019\n",
      "Shivani417@gmail.com\n",
      "6562656845\n"
     ]
    }
   ],
   "source": [
    "n=str(input(\"enter your name\"))\n",
    "a=str(input(\"enter address\"))\n",
    "e=str(input(\"enter email id\"))\n",
    "p=str(input(\"enter your phone number\"))\n",
    "print(n)\n",
    "print(a)\n",
    "print(e)\n",
    "print(p)"
   ]
  },
  {
   "cell_type": "code",
   "execution_count": null,
   "id": "b8218f5a-d67a-4fef-8618-53464393927e",
   "metadata": {},
   "outputs": [],
   "source": []
  }
 ],
 "metadata": {
  "kernelspec": {
   "display_name": "anaconda-panel-2023.05-py310",
   "language": "python",
   "name": "conda-env-anaconda-panel-2023.05-py310-py"
  },
  "language_info": {
   "codemirror_mode": {
    "name": "ipython",
    "version": 3
   },
   "file_extension": ".py",
   "mimetype": "text/x-python",
   "name": "python",
   "nbconvert_exporter": "python",
   "pygments_lexer": "ipython3",
   "version": "3.11.5"
  }
 },
 "nbformat": 4,
 "nbformat_minor": 5
}
